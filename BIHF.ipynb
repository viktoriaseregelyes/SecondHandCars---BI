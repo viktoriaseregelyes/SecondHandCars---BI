{
  "cells": [
    {
      "cell_type": "code",
      "execution_count": 116,
      "metadata": {
        "id": "hV06EEoMW3lV"
      },
      "outputs": [],
      "source": [
        "import os\n",
        "import numpy as np\n",
        "import pandas as pd\n",
        "import matplotlib.pyplot as plt\n",
        "from sklearn.preprocessing import StandardScaler\n",
        "import tensorflow as tf\n",
        "from tensorflow import keras\n",
        "from tensorflow.keras import layers, activations\n",
        "from keras.callbacks import EarlyStopping, ModelCheckpoint\n"
      ]
    },
    {
      "cell_type": "code",
      "execution_count": 117,
      "metadata": {
        "id": "-t13uodWYgz0"
      },
      "outputs": [
        {
          "name": "stderr",
          "output_type": "stream",
          "text": [
            "C:\\Users\\User\\AppData\\Local\\Temp\\ipykernel_32324\\4206964124.py:1: DtypeWarning: Columns (24) have mixed types. Specify dtype option on import or set low_memory=False.\n",
            "  df = pd.read_csv('C:\\\\Users\\\\User\\\\source\\\\repos\\\\BIHF\\\\flat_files\\\\advertisements_202006112147.csv')\n"
          ]
        }
      ],
      "source": [
        "df = pd.read_csv('C:\\\\Users\\\\User\\\\source\\\\repos\\\\BIHF\\\\flat_files\\\\advertisements_202006112147.csv')"
      ]
    },
    {
      "cell_type": "code",
      "execution_count": 118,
      "metadata": {
        "id": "lXUBwFHAb1JU"
      },
      "outputs": [],
      "source": [
        "df['production'] = pd.to_datetime(df['production'])"
      ]
    },
    {
      "cell_type": "code",
      "execution_count": 119,
      "metadata": {
        "id": "71JD3YQBOF6b"
      },
      "outputs": [],
      "source": [
        "df.set_index('production', inplace=True)"
      ]
    },
    {
      "cell_type": "code",
      "execution_count": 120,
      "metadata": {
        "id": "FLRXo7_WmtBH"
      },
      "outputs": [],
      "source": [
        "df[\"Day.Of.Year.X\"], df[\"Day.Of.Year.Y\"] = np.sin(2 * np.pi * df.index.day_of_year / 365), np.cos(2 * np.pi * df.index.day_of_year / 365)"
      ]
    },
    {
      "cell_type": "code",
      "execution_count": 121,
      "metadata": {},
      "outputs": [],
      "source": [
        "df[\"ad_price\"] = pd.to_numeric(df[\"ad_price\"], errors=\"coerce\")\n",
        "df = df.dropna(subset=[\"ad_price\"])"
      ]
    },
    {
      "cell_type": "code",
      "execution_count": 122,
      "metadata": {
        "colab": {
          "base_uri": "https://localhost:8080/",
          "height": 455
        },
        "id": "3vqFLNDbnEwC",
        "outputId": "f6442344-c508-448a-ef2b-fb5bd994d34f"
      },
      "outputs": [
        {
          "data": {
            "text/html": [
              "<div>\n",
              "<style scoped>\n",
              "    .dataframe tbody tr th:only-of-type {\n",
              "        vertical-align: middle;\n",
              "    }\n",
              "\n",
              "    .dataframe tbody tr th {\n",
              "        vertical-align: top;\n",
              "    }\n",
              "\n",
              "    .dataframe thead th {\n",
              "        text-align: right;\n",
              "    }\n",
              "</style>\n",
              "<table border=\"1\" class=\"dataframe\">\n",
              "  <thead>\n",
              "    <tr style=\"text-align: right;\">\n",
              "      <th></th>\n",
              "      <th>ad_id</th>\n",
              "      <th>region_id</th>\n",
              "      <th>ad_price</th>\n",
              "      <th>numpictures</th>\n",
              "      <th>proseller</th>\n",
              "      <th>adoldness</th>\n",
              "      <th>postalcode</th>\n",
              "      <th>mileage</th>\n",
              "      <th>clime_id</th>\n",
              "      <th>gas_id</th>\n",
              "      <th>...</th>\n",
              "      <th>upload_date</th>\n",
              "      <th>description</th>\n",
              "      <th>advertisement_url</th>\n",
              "      <th>catalog_url</th>\n",
              "      <th>sales_date</th>\n",
              "      <th>is_sold</th>\n",
              "      <th>download_date</th>\n",
              "      <th>sales_update_date</th>\n",
              "      <th>Day.Of.Year.X</th>\n",
              "      <th>Day.Of.Year.Y</th>\n",
              "    </tr>\n",
              "    <tr>\n",
              "      <th>production</th>\n",
              "      <th></th>\n",
              "      <th></th>\n",
              "      <th></th>\n",
              "      <th></th>\n",
              "      <th></th>\n",
              "      <th></th>\n",
              "      <th></th>\n",
              "      <th></th>\n",
              "      <th></th>\n",
              "      <th></th>\n",
              "      <th></th>\n",
              "      <th></th>\n",
              "      <th></th>\n",
              "      <th></th>\n",
              "      <th></th>\n",
              "      <th></th>\n",
              "      <th></th>\n",
              "      <th></th>\n",
              "      <th></th>\n",
              "      <th></th>\n",
              "      <th></th>\n",
              "    </tr>\n",
              "  </thead>\n",
              "  <tbody>\n",
              "    <tr>\n",
              "      <th>1997-12-01</th>\n",
              "      <td>1545570</td>\n",
              "      <td>5</td>\n",
              "      <td>530000</td>\n",
              "      <td>5</td>\n",
              "      <td>False</td>\n",
              "      <td>4584</td>\n",
              "      <td>5600</td>\n",
              "      <td>244000</td>\n",
              "      <td>3</td>\n",
              "      <td>NaN</td>\n",
              "      <td>...</td>\n",
              "      <td>2007-10-07</td>\n",
              "      <td>NaN</td>\n",
              "      <td>NaN</td>\n",
              "      <td>no catalog</td>\n",
              "      <td>NaN</td>\n",
              "      <td>False</td>\n",
              "      <td>2020-04-25</td>\n",
              "      <td>2020-04-25</td>\n",
              "      <td>-0.493776</td>\n",
              "      <td>0.869589</td>\n",
              "    </tr>\n",
              "    <tr>\n",
              "      <th>2005-12-01</th>\n",
              "      <td>4066033</td>\n",
              "      <td>13</td>\n",
              "      <td>1290000</td>\n",
              "      <td>6</td>\n",
              "      <td>False</td>\n",
              "      <td>3509</td>\n",
              "      <td>2671</td>\n",
              "      <td>148000</td>\n",
              "      <td>4</td>\n",
              "      <td>NaN</td>\n",
              "      <td>...</td>\n",
              "      <td>2010-08-11</td>\n",
              "      <td>NaN</td>\n",
              "      <td>NaN</td>\n",
              "      <td>http://katalogus.hasznaltauto.hu/opel/astra_1....</td>\n",
              "      <td>NaN</td>\n",
              "      <td>False</td>\n",
              "      <td>2020-03-20</td>\n",
              "      <td>2020-03-20</td>\n",
              "      <td>-0.493776</td>\n",
              "      <td>0.869589</td>\n",
              "    </tr>\n",
              "    <tr>\n",
              "      <th>1994-11-01</th>\n",
              "      <td>4109007</td>\n",
              "      <td>4</td>\n",
              "      <td>580000</td>\n",
              "      <td>6</td>\n",
              "      <td>False</td>\n",
              "      <td>3526</td>\n",
              "      <td>6000</td>\n",
              "      <td>181900</td>\n",
              "      <td>2</td>\n",
              "      <td>NaN</td>\n",
              "      <td>...</td>\n",
              "      <td>2010-08-30</td>\n",
              "      <td>NaN</td>\n",
              "      <td>NaN</td>\n",
              "      <td>http://katalogus.hasznaltauto.hu/saab/900_2.5_...</td>\n",
              "      <td>NaN</td>\n",
              "      <td>False</td>\n",
              "      <td>2020-04-25</td>\n",
              "      <td>2020-04-25</td>\n",
              "      <td>-0.858764</td>\n",
              "      <td>0.512371</td>\n",
              "    </tr>\n",
              "    <tr>\n",
              "      <th>2005-09-01</th>\n",
              "      <td>4246385</td>\n",
              "      <td>9</td>\n",
              "      <td>1450000</td>\n",
              "      <td>6</td>\n",
              "      <td>False</td>\n",
              "      <td>3435</td>\n",
              "      <td>4033</td>\n",
              "      <td>185000</td>\n",
              "      <td>2</td>\n",
              "      <td>NaN</td>\n",
              "      <td>...</td>\n",
              "      <td>2010-10-25</td>\n",
              "      <td>NaN</td>\n",
              "      <td>NaN</td>\n",
              "      <td>http://katalogus.hasznaltauto.hu/seat/leon_1.4...</td>\n",
              "      <td>NaN</td>\n",
              "      <td>False</td>\n",
              "      <td>2020-03-21</td>\n",
              "      <td>2020-03-21</td>\n",
              "      <td>-0.871706</td>\n",
              "      <td>-0.490029</td>\n",
              "    </tr>\n",
              "    <tr>\n",
              "      <th>1900-01-01</th>\n",
              "      <td>5440448</td>\n",
              "      <td>15</td>\n",
              "      <td>9990000</td>\n",
              "      <td>6</td>\n",
              "      <td>False</td>\n",
              "      <td>3022</td>\n",
              "      <td>8600</td>\n",
              "      <td>98500</td>\n",
              "      <td>5</td>\n",
              "      <td>NaN</td>\n",
              "      <td>...</td>\n",
              "      <td>2012-01-17</td>\n",
              "      <td>NaN</td>\n",
              "      <td>NaN</td>\n",
              "      <td>http://katalogus.hasznaltauto.hu/mercedes-benz...</td>\n",
              "      <td>NaN</td>\n",
              "      <td>False</td>\n",
              "      <td>2020-04-26</td>\n",
              "      <td>2020-04-26</td>\n",
              "      <td>0.017213</td>\n",
              "      <td>0.999852</td>\n",
              "    </tr>\n",
              "    <tr>\n",
              "      <th>...</th>\n",
              "      <td>...</td>\n",
              "      <td>...</td>\n",
              "      <td>...</td>\n",
              "      <td>...</td>\n",
              "      <td>...</td>\n",
              "      <td>...</td>\n",
              "      <td>...</td>\n",
              "      <td>...</td>\n",
              "      <td>...</td>\n",
              "      <td>...</td>\n",
              "      <td>...</td>\n",
              "      <td>...</td>\n",
              "      <td>...</td>\n",
              "      <td>...</td>\n",
              "      <td>...</td>\n",
              "      <td>...</td>\n",
              "      <td>...</td>\n",
              "      <td>...</td>\n",
              "      <td>...</td>\n",
              "      <td>...</td>\n",
              "      <td>...</td>\n",
              "    </tr>\n",
              "    <tr>\n",
              "      <th>2011-05-01</th>\n",
              "      <td>15726818</td>\n",
              "      <td>6</td>\n",
              "      <td>5250000</td>\n",
              "      <td>12</td>\n",
              "      <td>True</td>\n",
              "      <td>0</td>\n",
              "      <td>6728</td>\n",
              "      <td>201500</td>\n",
              "      <td>4</td>\n",
              "      <td>NaN</td>\n",
              "      <td>...</td>\n",
              "      <td>2020-05-06</td>\n",
              "      <td>NaN</td>\n",
              "      <td>NaN</td>\n",
              "      <td>http://katalogus.hasznaltauto.hu/audi/q5_2.0_t...</td>\n",
              "      <td>NaN</td>\n",
              "      <td>False</td>\n",
              "      <td>2020-05-06</td>\n",
              "      <td>2020-05-06</td>\n",
              "      <td>0.871706</td>\n",
              "      <td>-0.490029</td>\n",
              "    </tr>\n",
              "    <tr>\n",
              "      <th>2016-04-01</th>\n",
              "      <td>15726825</td>\n",
              "      <td>3</td>\n",
              "      <td>5300000</td>\n",
              "      <td>12</td>\n",
              "      <td>True</td>\n",
              "      <td>0</td>\n",
              "      <td>1154</td>\n",
              "      <td>129711</td>\n",
              "      <td>5</td>\n",
              "      <td>NaN</td>\n",
              "      <td>...</td>\n",
              "      <td>2020-05-06</td>\n",
              "      <td>NaN</td>\n",
              "      <td>NaN</td>\n",
              "      <td>http://katalogus.hasznaltauto.hu/volkswagen/go...</td>\n",
              "      <td>NaN</td>\n",
              "      <td>False</td>\n",
              "      <td>2020-05-06</td>\n",
              "      <td>2020-05-06</td>\n",
              "      <td>0.999917</td>\n",
              "      <td>-0.012910</td>\n",
              "    </tr>\n",
              "    <tr>\n",
              "      <th>2010-05-01</th>\n",
              "      <td>15726904</td>\n",
              "      <td>3</td>\n",
              "      <td>4990000</td>\n",
              "      <td>12</td>\n",
              "      <td>True</td>\n",
              "      <td>0</td>\n",
              "      <td>1152</td>\n",
              "      <td>140000</td>\n",
              "      <td>5</td>\n",
              "      <td>NaN</td>\n",
              "      <td>...</td>\n",
              "      <td>2020-05-06</td>\n",
              "      <td>NaN</td>\n",
              "      <td>NaN</td>\n",
              "      <td>http://katalogus.hasznaltauto.hu/audi/a5_cabri...</td>\n",
              "      <td>NaN</td>\n",
              "      <td>False</td>\n",
              "      <td>2020-05-06</td>\n",
              "      <td>2020-05-06</td>\n",
              "      <td>0.871706</td>\n",
              "      <td>-0.490029</td>\n",
              "    </tr>\n",
              "    <tr>\n",
              "      <th>2012-08-01</th>\n",
              "      <td>15727058</td>\n",
              "      <td>7</td>\n",
              "      <td>5150000</td>\n",
              "      <td>5</td>\n",
              "      <td>True</td>\n",
              "      <td>0</td>\n",
              "      <td>8000</td>\n",
              "      <td>155000</td>\n",
              "      <td>4</td>\n",
              "      <td>NaN</td>\n",
              "      <td>...</td>\n",
              "      <td>2020-05-06</td>\n",
              "      <td>NaN</td>\n",
              "      <td>NaN</td>\n",
              "      <td>http://katalogus.hasznaltauto.hu/jeep/wrangler...</td>\n",
              "      <td>NaN</td>\n",
              "      <td>False</td>\n",
              "      <td>2020-05-06</td>\n",
              "      <td>2020-05-06</td>\n",
              "      <td>-0.516062</td>\n",
              "      <td>-0.856551</td>\n",
              "    </tr>\n",
              "    <tr>\n",
              "      <th>2016-09-01</th>\n",
              "      <td>15727613</td>\n",
              "      <td>7</td>\n",
              "      <td>5300000</td>\n",
              "      <td>12</td>\n",
              "      <td>True</td>\n",
              "      <td>0</td>\n",
              "      <td>8000</td>\n",
              "      <td>91000</td>\n",
              "      <td>6</td>\n",
              "      <td>NaN</td>\n",
              "      <td>...</td>\n",
              "      <td>2020-05-06</td>\n",
              "      <td>NaN</td>\n",
              "      <td>NaN</td>\n",
              "      <td>http://katalogus.hasznaltauto.hu/ford/kuga_2.0...</td>\n",
              "      <td>NaN</td>\n",
              "      <td>False</td>\n",
              "      <td>2020-05-06</td>\n",
              "      <td>2020-05-06</td>\n",
              "      <td>-0.880012</td>\n",
              "      <td>-0.474951</td>\n",
              "    </tr>\n",
              "  </tbody>\n",
              "</table>\n",
              "<p>38188 rows × 29 columns</p>\n",
              "</div>"
            ],
            "text/plain": [
              "               ad_id  region_id  ad_price  numpictures  proseller  adoldness  \\\n",
              "production                                                                     \n",
              "1997-12-01   1545570          5    530000            5      False       4584   \n",
              "2005-12-01   4066033         13   1290000            6      False       3509   \n",
              "1994-11-01   4109007          4    580000            6      False       3526   \n",
              "2005-09-01   4246385          9   1450000            6      False       3435   \n",
              "1900-01-01   5440448         15   9990000            6      False       3022   \n",
              "...              ...        ...       ...          ...        ...        ...   \n",
              "2011-05-01  15726818          6   5250000           12       True          0   \n",
              "2016-04-01  15726825          3   5300000           12       True          0   \n",
              "2010-05-01  15726904          3   4990000           12       True          0   \n",
              "2012-08-01  15727058          7   5150000            5       True          0   \n",
              "2016-09-01  15727613          7   5300000           12       True          0   \n",
              "\n",
              "            postalcode  mileage  clime_id  gas_id  ... upload_date  \\\n",
              "production                                         ...               \n",
              "1997-12-01        5600   244000         3     NaN  ...  2007-10-07   \n",
              "2005-12-01        2671   148000         4     NaN  ...  2010-08-11   \n",
              "1994-11-01        6000   181900         2     NaN  ...  2010-08-30   \n",
              "2005-09-01        4033   185000         2     NaN  ...  2010-10-25   \n",
              "1900-01-01        8600    98500         5     NaN  ...  2012-01-17   \n",
              "...                ...      ...       ...     ...  ...         ...   \n",
              "2011-05-01        6728   201500         4     NaN  ...  2020-05-06   \n",
              "2016-04-01        1154   129711         5     NaN  ...  2020-05-06   \n",
              "2010-05-01        1152   140000         5     NaN  ...  2020-05-06   \n",
              "2012-08-01        8000   155000         4     NaN  ...  2020-05-06   \n",
              "2016-09-01        8000    91000         6     NaN  ...  2020-05-06   \n",
              "\n",
              "            description  advertisement_url  \\\n",
              "production                                   \n",
              "1997-12-01          NaN                NaN   \n",
              "2005-12-01          NaN                NaN   \n",
              "1994-11-01          NaN                NaN   \n",
              "2005-09-01          NaN                NaN   \n",
              "1900-01-01          NaN                NaN   \n",
              "...                 ...                ...   \n",
              "2011-05-01          NaN                NaN   \n",
              "2016-04-01          NaN                NaN   \n",
              "2010-05-01          NaN                NaN   \n",
              "2012-08-01          NaN                NaN   \n",
              "2016-09-01          NaN                NaN   \n",
              "\n",
              "                                                  catalog_url  sales_date  \\\n",
              "production                                                                  \n",
              "1997-12-01                                         no catalog         NaN   \n",
              "2005-12-01  http://katalogus.hasznaltauto.hu/opel/astra_1....         NaN   \n",
              "1994-11-01  http://katalogus.hasznaltauto.hu/saab/900_2.5_...         NaN   \n",
              "2005-09-01  http://katalogus.hasznaltauto.hu/seat/leon_1.4...         NaN   \n",
              "1900-01-01  http://katalogus.hasznaltauto.hu/mercedes-benz...         NaN   \n",
              "...                                                       ...         ...   \n",
              "2011-05-01  http://katalogus.hasznaltauto.hu/audi/q5_2.0_t...         NaN   \n",
              "2016-04-01  http://katalogus.hasznaltauto.hu/volkswagen/go...         NaN   \n",
              "2010-05-01  http://katalogus.hasznaltauto.hu/audi/a5_cabri...         NaN   \n",
              "2012-08-01  http://katalogus.hasznaltauto.hu/jeep/wrangler...         NaN   \n",
              "2016-09-01  http://katalogus.hasznaltauto.hu/ford/kuga_2.0...         NaN   \n",
              "\n",
              "            is_sold  download_date  sales_update_date  Day.Of.Year.X  \\\n",
              "production                                                             \n",
              "1997-12-01    False     2020-04-25         2020-04-25      -0.493776   \n",
              "2005-12-01    False     2020-03-20         2020-03-20      -0.493776   \n",
              "1994-11-01    False     2020-04-25         2020-04-25      -0.858764   \n",
              "2005-09-01    False     2020-03-21         2020-03-21      -0.871706   \n",
              "1900-01-01    False     2020-04-26         2020-04-26       0.017213   \n",
              "...             ...            ...                ...            ...   \n",
              "2011-05-01    False     2020-05-06         2020-05-06       0.871706   \n",
              "2016-04-01    False     2020-05-06         2020-05-06       0.999917   \n",
              "2010-05-01    False     2020-05-06         2020-05-06       0.871706   \n",
              "2012-08-01    False     2020-05-06         2020-05-06      -0.516062   \n",
              "2016-09-01    False     2020-05-06         2020-05-06      -0.880012   \n",
              "\n",
              "           Day.Of.Year.Y  \n",
              "production                \n",
              "1997-12-01      0.869589  \n",
              "2005-12-01      0.869589  \n",
              "1994-11-01      0.512371  \n",
              "2005-09-01     -0.490029  \n",
              "1900-01-01      0.999852  \n",
              "...                  ...  \n",
              "2011-05-01     -0.490029  \n",
              "2016-04-01     -0.012910  \n",
              "2010-05-01     -0.490029  \n",
              "2012-08-01     -0.856551  \n",
              "2016-09-01     -0.474951  \n",
              "\n",
              "[38188 rows x 29 columns]"
            ]
          },
          "execution_count": 122,
          "metadata": {},
          "output_type": "execute_result"
        }
      ],
      "source": [
        "df"
      ]
    },
    {
      "cell_type": "markdown",
      "metadata": {
        "id": "drXtAGLaO6Ug"
      },
      "source": [
        "**Splitting, Scaling, and Sequence Handling**"
      ]
    },
    {
      "cell_type": "code",
      "execution_count": 123,
      "metadata": {
        "id": "IIgapeoRKUUg"
      },
      "outputs": [],
      "source": [
        "input_cols = [\n",
        "    \"numpictures\", \"adoldness\", \"postalcode\",\n",
        "    \"mileage\", \"clime_id\"\n",
        "]\n",
        "\n",
        "target_col = \"ad_price\"\n",
        "\n",
        "train_start = pd.Timestamp(\"2010\")\n",
        "valid_start = pd.Timestamp(\"2014\")\n",
        "test_start = pd.Timestamp(\"2016\")\n",
        "train_df = df[(df.index >= train_start) & (df.index < valid_start)].copy()\n",
        "valid_df = df[(df.index >= valid_start) & (df.index < test_start)].copy()\n",
        "test_df = df[(df.index >= test_start)].copy()"
      ]
    },
    {
      "cell_type": "code",
      "execution_count": 124,
      "metadata": {},
      "outputs": [],
      "source": [
        "scaler_input = StandardScaler()\n",
        "scaler_output = StandardScaler()\n",
        "\n",
        "scaled_train = scaler_input.fit_transform(train_df[input_cols])\n",
        "target_train = scaler_output.fit_transform(train_df[[target_col]])\n",
        "\n",
        "scaled_valid = scaler_input.transform(valid_df[input_cols])\n",
        "target_valid = scaler_output.transform(valid_df[[target_col]])\n",
        "\n",
        "scaled_test = scaler_input.transform(test_df[input_cols])\n",
        "target_test = scaler_output.transform(test_df[[target_col]])"
      ]
    },
    {
      "cell_type": "code",
      "execution_count": 125,
      "metadata": {
        "id": "0YzVf1nrTpJl"
      },
      "outputs": [],
      "source": [
        "def process_Xy(raw_X: np.array, raw_y: np.array, lookback: int) -> np.array:\n",
        "        X = np.empty(shape=(raw_X.shape[0] - lookback, lookback , raw_X.shape[1]), dtype=np.float32)\n",
        "        y = np.empty(shape=(raw_y.shape[0] - lookback), dtype=np.float32)\n",
        "\n",
        "        target_index = 0\n",
        "        for i in range(lookback, raw_X.shape[0]):\n",
        "            X[target_index] = raw_X[i - lookback : i]\n",
        "            y[target_index] = raw_y[i]\n",
        "            target_index += 1\n",
        "\n",
        "        return X.copy(), y.copy()"
      ]
    },
    {
      "cell_type": "code",
      "execution_count": 126,
      "metadata": {
        "colab": {
          "base_uri": "https://localhost:8080/"
        },
        "id": "X8XxRSU2Ujf9",
        "outputId": "b7970b0d-63e8-4f2a-9f40-ace29ebc0c9e"
      },
      "outputs": [
        {
          "name": "stderr",
          "output_type": "stream",
          "text": [
            "C:\\Users\\User\\AppData\\Local\\Temp\\ipykernel_32324\\916063004.py:8: DeprecationWarning: Conversion of an array with ndim > 0 to a scalar is deprecated, and will error in future. Ensure you extract a single element from your array before performing this operation. (Deprecated NumPy 1.25.)\n",
            "  y[target_index] = raw_y[i]\n"
          ]
        }
      ],
      "source": [
        "lookback = 10\n",
        "train_X, train_y = process_Xy(scaled_train, target_train, lookback=lookback)\n",
        "valid_X, valid_y = process_Xy(scaled_valid, target_valid, lookback=lookback)\n",
        "test_X, test_y = process_Xy(scaled_test, target_test, lookback=lookback)"
      ]
    },
    {
      "cell_type": "markdown",
      "metadata": {
        "id": "bkhgIYTgQNW7"
      },
      "source": [
        "**Model Building, Training, Validating, Testing, and Visualizing**"
      ]
    },
    {
      "cell_type": "code",
      "execution_count": 127,
      "metadata": {
        "id": "J5ROYz8iVk5n"
      },
      "outputs": [
        {
          "name": "stderr",
          "output_type": "stream",
          "text": [
            "c:\\Users\\User\\AppData\\Local\\Programs\\Python\\Python312\\Lib\\site-packages\\keras\\src\\layers\\rnn\\rnn.py:200: UserWarning: Do not pass an `input_shape`/`input_dim` argument to a layer. When using Sequential models, prefer using an `Input(shape)` object as the first layer in the model instead.\n",
            "  super().__init__(**kwargs)\n"
          ]
        }
      ],
      "source": [
        "model = keras.Sequential(\n",
        "    [\n",
        "        layers.LSTM(16, activation=\"relu\", input_shape = train_X.shape[1:]),\n",
        "        layers.Dense(1),\n",
        "    ]\n",
        ")"
      ]
    },
    {
      "cell_type": "code",
      "execution_count": 128,
      "metadata": {
        "id": "fOzQqcpGWaRf"
      },
      "outputs": [],
      "source": [
        "model.compile(loss='MeanSquaredError', optimizer='Adam')"
      ]
    },
    {
      "cell_type": "code",
      "execution_count": 129,
      "metadata": {
        "colab": {
          "base_uri": "https://localhost:8080/"
        },
        "id": "O5W1UGA6WvkG",
        "outputId": "5c7edbe4-f9af-4c3d-9817-7fba9df1c304"
      },
      "outputs": [
        {
          "data": {
            "text/html": [
              "<pre style=\"white-space:pre;overflow-x:auto;line-height:normal;font-family:Menlo,'DejaVu Sans Mono',consolas,'Courier New',monospace\"><span style=\"font-weight: bold\">Model: \"sequential_4\"</span>\n",
              "</pre>\n"
            ],
            "text/plain": [
              "\u001b[1mModel: \"sequential_4\"\u001b[0m\n"
            ]
          },
          "metadata": {},
          "output_type": "display_data"
        },
        {
          "data": {
            "text/html": [
              "<pre style=\"white-space:pre;overflow-x:auto;line-height:normal;font-family:Menlo,'DejaVu Sans Mono',consolas,'Courier New',monospace\">┏━━━━━━━━━━━━━━━━━━━━━━━━━━━━━━━━━┳━━━━━━━━━━━━━━━━━━━━━━━━┳━━━━━━━━━━━━━━━┓\n",
              "┃<span style=\"font-weight: bold\"> Layer (type)                    </span>┃<span style=\"font-weight: bold\"> Output Shape           </span>┃<span style=\"font-weight: bold\">       Param # </span>┃\n",
              "┡━━━━━━━━━━━━━━━━━━━━━━━━━━━━━━━━━╇━━━━━━━━━━━━━━━━━━━━━━━━╇━━━━━━━━━━━━━━━┩\n",
              "│ lstm_4 (<span style=\"color: #0087ff; text-decoration-color: #0087ff\">LSTM</span>)                   │ (<span style=\"color: #00d7ff; text-decoration-color: #00d7ff\">None</span>, <span style=\"color: #00af00; text-decoration-color: #00af00\">16</span>)             │         <span style=\"color: #00af00; text-decoration-color: #00af00\">1,408</span> │\n",
              "├─────────────────────────────────┼────────────────────────┼───────────────┤\n",
              "│ dense_4 (<span style=\"color: #0087ff; text-decoration-color: #0087ff\">Dense</span>)                 │ (<span style=\"color: #00d7ff; text-decoration-color: #00d7ff\">None</span>, <span style=\"color: #00af00; text-decoration-color: #00af00\">1</span>)              │            <span style=\"color: #00af00; text-decoration-color: #00af00\">17</span> │\n",
              "└─────────────────────────────────┴────────────────────────┴───────────────┘\n",
              "</pre>\n"
            ],
            "text/plain": [
              "┏━━━━━━━━━━━━━━━━━━━━━━━━━━━━━━━━━┳━━━━━━━━━━━━━━━━━━━━━━━━┳━━━━━━━━━━━━━━━┓\n",
              "┃\u001b[1m \u001b[0m\u001b[1mLayer (type)                   \u001b[0m\u001b[1m \u001b[0m┃\u001b[1m \u001b[0m\u001b[1mOutput Shape          \u001b[0m\u001b[1m \u001b[0m┃\u001b[1m \u001b[0m\u001b[1m      Param #\u001b[0m\u001b[1m \u001b[0m┃\n",
              "┡━━━━━━━━━━━━━━━━━━━━━━━━━━━━━━━━━╇━━━━━━━━━━━━━━━━━━━━━━━━╇━━━━━━━━━━━━━━━┩\n",
              "│ lstm_4 (\u001b[38;5;33mLSTM\u001b[0m)                   │ (\u001b[38;5;45mNone\u001b[0m, \u001b[38;5;34m16\u001b[0m)             │         \u001b[38;5;34m1,408\u001b[0m │\n",
              "├─────────────────────────────────┼────────────────────────┼───────────────┤\n",
              "│ dense_4 (\u001b[38;5;33mDense\u001b[0m)                 │ (\u001b[38;5;45mNone\u001b[0m, \u001b[38;5;34m1\u001b[0m)              │            \u001b[38;5;34m17\u001b[0m │\n",
              "└─────────────────────────────────┴────────────────────────┴───────────────┘\n"
            ]
          },
          "metadata": {},
          "output_type": "display_data"
        },
        {
          "data": {
            "text/html": [
              "<pre style=\"white-space:pre;overflow-x:auto;line-height:normal;font-family:Menlo,'DejaVu Sans Mono',consolas,'Courier New',monospace\"><span style=\"font-weight: bold\"> Total params: </span><span style=\"color: #00af00; text-decoration-color: #00af00\">1,425</span> (5.57 KB)\n",
              "</pre>\n"
            ],
            "text/plain": [
              "\u001b[1m Total params: \u001b[0m\u001b[38;5;34m1,425\u001b[0m (5.57 KB)\n"
            ]
          },
          "metadata": {},
          "output_type": "display_data"
        },
        {
          "data": {
            "text/html": [
              "<pre style=\"white-space:pre;overflow-x:auto;line-height:normal;font-family:Menlo,'DejaVu Sans Mono',consolas,'Courier New',monospace\"><span style=\"font-weight: bold\"> Trainable params: </span><span style=\"color: #00af00; text-decoration-color: #00af00\">1,425</span> (5.57 KB)\n",
              "</pre>\n"
            ],
            "text/plain": [
              "\u001b[1m Trainable params: \u001b[0m\u001b[38;5;34m1,425\u001b[0m (5.57 KB)\n"
            ]
          },
          "metadata": {},
          "output_type": "display_data"
        },
        {
          "data": {
            "text/html": [
              "<pre style=\"white-space:pre;overflow-x:auto;line-height:normal;font-family:Menlo,'DejaVu Sans Mono',consolas,'Courier New',monospace\"><span style=\"font-weight: bold\"> Non-trainable params: </span><span style=\"color: #00af00; text-decoration-color: #00af00\">0</span> (0.00 B)\n",
              "</pre>\n"
            ],
            "text/plain": [
              "\u001b[1m Non-trainable params: \u001b[0m\u001b[38;5;34m0\u001b[0m (0.00 B)\n"
            ]
          },
          "metadata": {},
          "output_type": "display_data"
        }
      ],
      "source": [
        "model.summary()"
      ]
    },
    {
      "cell_type": "code",
      "execution_count": 130,
      "metadata": {
        "id": "jgB9RfxiWxG2"
      },
      "outputs": [],
      "source": [
        "callbacks = [EarlyStopping(monitor=\"val_loss\", patience=10)]"
      ]
    },
    {
      "cell_type": "code",
      "execution_count": 131,
      "metadata": {
        "colab": {
          "base_uri": "https://localhost:8080/"
        },
        "id": "oA4W56bzXRd-",
        "outputId": "c7fd302e-99fd-44c2-81a9-4af52ab170b1"
      },
      "outputs": [
        {
          "name": "stdout",
          "output_type": "stream",
          "text": [
            "Epoch 1/100\n",
            "\u001b[1m405/405\u001b[0m \u001b[32m━━━━━━━━━━━━━━━━━━━━\u001b[0m\u001b[37m\u001b[0m \u001b[1m3s\u001b[0m 3ms/step - loss: 1.0126 - val_loss: 3.6386\n",
            "Epoch 2/100\n",
            "\u001b[1m405/405\u001b[0m \u001b[32m━━━━━━━━━━━━━━━━━━━━\u001b[0m\u001b[37m\u001b[0m \u001b[1m1s\u001b[0m 2ms/step - loss: 0.9409 - val_loss: 3.6200\n",
            "Epoch 3/100\n",
            "\u001b[1m405/405\u001b[0m \u001b[32m━━━━━━━━━━━━━━━━━━━━\u001b[0m\u001b[37m\u001b[0m \u001b[1m1s\u001b[0m 2ms/step - loss: 0.9826 - val_loss: 3.6440\n",
            "Epoch 4/100\n",
            "\u001b[1m405/405\u001b[0m \u001b[32m━━━━━━━━━━━━━━━━━━━━\u001b[0m\u001b[37m\u001b[0m \u001b[1m1s\u001b[0m 2ms/step - loss: 0.9889 - val_loss: 3.6564\n",
            "Epoch 5/100\n",
            "\u001b[1m405/405\u001b[0m \u001b[32m━━━━━━━━━━━━━━━━━━━━\u001b[0m\u001b[37m\u001b[0m \u001b[1m1s\u001b[0m 2ms/step - loss: 1.1078 - val_loss: 3.5547\n",
            "Epoch 6/100\n",
            "\u001b[1m405/405\u001b[0m \u001b[32m━━━━━━━━━━━━━━━━━━━━\u001b[0m\u001b[37m\u001b[0m \u001b[1m1s\u001b[0m 2ms/step - loss: 0.8961 - val_loss: 3.6429\n",
            "Epoch 7/100\n",
            "\u001b[1m405/405\u001b[0m \u001b[32m━━━━━━━━━━━━━━━━━━━━\u001b[0m\u001b[37m\u001b[0m \u001b[1m1s\u001b[0m 2ms/step - loss: 0.9706 - val_loss: 3.5935\n",
            "Epoch 8/100\n",
            "\u001b[1m405/405\u001b[0m \u001b[32m━━━━━━━━━━━━━━━━━━━━\u001b[0m\u001b[37m\u001b[0m \u001b[1m1s\u001b[0m 2ms/step - loss: 0.9857 - val_loss: 3.5745\n",
            "Epoch 9/100\n",
            "\u001b[1m405/405\u001b[0m \u001b[32m━━━━━━━━━━━━━━━━━━━━\u001b[0m\u001b[37m\u001b[0m \u001b[1m1s\u001b[0m 2ms/step - loss: 0.9176 - val_loss: 3.4734\n",
            "Epoch 10/100\n",
            "\u001b[1m405/405\u001b[0m \u001b[32m━━━━━━━━━━━━━━━━━━━━\u001b[0m\u001b[37m\u001b[0m \u001b[1m1s\u001b[0m 2ms/step - loss: 0.9582 - val_loss: 3.5968\n",
            "Epoch 11/100\n",
            "\u001b[1m405/405\u001b[0m \u001b[32m━━━━━━━━━━━━━━━━━━━━\u001b[0m\u001b[37m\u001b[0m \u001b[1m1s\u001b[0m 2ms/step - loss: 0.9096 - val_loss: 3.5051\n",
            "Epoch 12/100\n",
            "\u001b[1m405/405\u001b[0m \u001b[32m━━━━━━━━━━━━━━━━━━━━\u001b[0m\u001b[37m\u001b[0m \u001b[1m1s\u001b[0m 2ms/step - loss: 0.9229 - val_loss: 3.5696\n",
            "Epoch 13/100\n",
            "\u001b[1m405/405\u001b[0m \u001b[32m━━━━━━━━━━━━━━━━━━━━\u001b[0m\u001b[37m\u001b[0m \u001b[1m1s\u001b[0m 2ms/step - loss: 1.0002 - val_loss: 3.6325\n",
            "Epoch 14/100\n",
            "\u001b[1m405/405\u001b[0m \u001b[32m━━━━━━━━━━━━━━━━━━━━\u001b[0m\u001b[37m\u001b[0m \u001b[1m1s\u001b[0m 2ms/step - loss: 0.9177 - val_loss: 3.4705\n",
            "Epoch 15/100\n",
            "\u001b[1m405/405\u001b[0m \u001b[32m━━━━━━━━━━━━━━━━━━━━\u001b[0m\u001b[37m\u001b[0m \u001b[1m1s\u001b[0m 2ms/step - loss: 0.8347 - val_loss: 3.5427\n",
            "Epoch 16/100\n",
            "\u001b[1m405/405\u001b[0m \u001b[32m━━━━━━━━━━━━━━━━━━━━\u001b[0m\u001b[37m\u001b[0m \u001b[1m1s\u001b[0m 3ms/step - loss: 0.8990 - val_loss: 3.4952\n",
            "Epoch 17/100\n",
            "\u001b[1m405/405\u001b[0m \u001b[32m━━━━━━━━━━━━━━━━━━━━\u001b[0m\u001b[37m\u001b[0m \u001b[1m1s\u001b[0m 2ms/step - loss: 0.8716 - val_loss: 3.3788\n",
            "Epoch 18/100\n",
            "\u001b[1m405/405\u001b[0m \u001b[32m━━━━━━━━━━━━━━━━━━━━\u001b[0m\u001b[37m\u001b[0m \u001b[1m1s\u001b[0m 2ms/step - loss: 0.9251 - val_loss: 3.3827\n",
            "Epoch 19/100\n",
            "\u001b[1m405/405\u001b[0m \u001b[32m━━━━━━━━━━━━━━━━━━━━\u001b[0m\u001b[37m\u001b[0m \u001b[1m1s\u001b[0m 2ms/step - loss: 0.9569 - val_loss: 3.6938\n",
            "Epoch 20/100\n",
            "\u001b[1m405/405\u001b[0m \u001b[32m━━━━━━━━━━━━━━━━━━━━\u001b[0m\u001b[37m\u001b[0m \u001b[1m1s\u001b[0m 2ms/step - loss: 0.9129 - val_loss: 3.4372\n",
            "Epoch 21/100\n",
            "\u001b[1m405/405\u001b[0m \u001b[32m━━━━━━━━━━━━━━━━━━━━\u001b[0m\u001b[37m\u001b[0m \u001b[1m1s\u001b[0m 2ms/step - loss: 0.9653 - val_loss: 3.4943\n",
            "Epoch 22/100\n",
            "\u001b[1m405/405\u001b[0m \u001b[32m━━━━━━━━━━━━━━━━━━━━\u001b[0m\u001b[37m\u001b[0m \u001b[1m1s\u001b[0m 2ms/step - loss: 1.0295 - val_loss: 3.6846\n",
            "Epoch 23/100\n",
            "\u001b[1m405/405\u001b[0m \u001b[32m━━━━━━━━━━━━━━━━━━━━\u001b[0m\u001b[37m\u001b[0m \u001b[1m1s\u001b[0m 2ms/step - loss: 0.9293 - val_loss: 3.4374\n",
            "Epoch 24/100\n",
            "\u001b[1m405/405\u001b[0m \u001b[32m━━━━━━━━━━━━━━━━━━━━\u001b[0m\u001b[37m\u001b[0m \u001b[1m1s\u001b[0m 2ms/step - loss: 0.9707 - val_loss: 3.5630\n",
            "Epoch 25/100\n",
            "\u001b[1m405/405\u001b[0m \u001b[32m━━━━━━━━━━━━━━━━━━━━\u001b[0m\u001b[37m\u001b[0m \u001b[1m1s\u001b[0m 2ms/step - loss: 0.9455 - val_loss: 3.5642\n",
            "Epoch 26/100\n",
            "\u001b[1m405/405\u001b[0m \u001b[32m━━━━━━━━━━━━━━━━━━━━\u001b[0m\u001b[37m\u001b[0m \u001b[1m1s\u001b[0m 2ms/step - loss: 0.9538 - val_loss: 3.4469\n",
            "Epoch 27/100\n",
            "\u001b[1m405/405\u001b[0m \u001b[32m━━━━━━━━━━━━━━━━━━━━\u001b[0m\u001b[37m\u001b[0m \u001b[1m1s\u001b[0m 2ms/step - loss: 0.8408 - val_loss: 3.5494\n"
          ]
        }
      ],
      "source": [
        "history = model.fit(\n",
        "            train_X,\n",
        "            train_y,\n",
        "            validation_data=(valid_X, valid_y),\n",
        "            batch_size=16,\n",
        "            epochs=100,\n",
        "            callbacks=callbacks,\n",
        "            shuffle=True,\n",
        "            verbose=True,\n",
        "        )"
      ]
    },
    {
      "cell_type": "code",
      "execution_count": 132,
      "metadata": {
        "colab": {
          "base_uri": "https://localhost:8080/",
          "height": 472
        },
        "id": "Vqtxq1nuXWkm",
        "outputId": "90157d2d-c855-426c-f871-2f90c41bb504"
      },
      "outputs": [
        {
          "data": {
            "image/png": "[encoded data removed]",
            "text/plain": [
              "<Figure size 640x480 with 1 Axes>"
            ]
          },
          "metadata": {},
          "output_type": "display_data"
        }
      ],
      "source": [
        "plt.plot(history.history['loss'], label='Training Loss')\n",
        "plt.plot(history.history['val_loss'], label='Validation Loss')\n",
        "plt.title('Model Training and Validation Loss')\n",
        "plt.xlabel('Epochs')\n",
        "plt.ylabel('Loss')\n",
        "plt.legend()\n",
        "plt.show()"
      ]
    },
    {
      "cell_type": "code",
      "execution_count": 138,
      "metadata": {},
      "outputs": [
        {
          "name": "stderr",
          "output_type": "stream",
          "text": [
            "C:\\Users\\User\\AppData\\Local\\Temp\\ipykernel_32324\\385428548.py:15: FutureWarning: 'M' is deprecated and will be removed in a future version, please use 'ME' instead.\n",
            "  results_df = results_df.resample('M').mean()\n"
          ]
        }
      ],
      "source": [
        "actual_prices = scaler_output.inverse_transform(test_y.reshape(-1, 1)).flatten()\n",
        "predicted_prices = scaler_output.inverse_transform(pred).flatten()\n",
        "\n",
        "# Create aligned index from test_df (accounting for lookback)\n",
        "aligned_index = test_df.index[lookback:]\n",
        "\n",
        "# Create a DataFrame for plotting\n",
        "results_df = pd.DataFrame({\n",
        "    \"Date\": aligned_index,\n",
        "    \"Actual\": actual_prices,\n",
        "    \"Predicted\": predicted_prices\n",
        "}).set_index(\"Date\")\n",
        "\n",
        "# Optional: smooth with monthly average to reduce noise\n",
        "results_df = results_df.resample('M').mean()"
      ]
    },
    {
      "cell_type": "code",
      "execution_count": 140,
      "metadata": {
        "colab": {
          "base_uri": "https://localhost:8080/",
          "height": 618
        },
        "id": "hSWAXsPzqFRl",
        "outputId": "57ae5a04-c457-466f-da70-bea7e434beb2"
      },
      "outputs": [
        {
          "name": "stdout",
          "output_type": "stream",
          "text": [
            "\u001b[1m180/180\u001b[0m \u001b[32m━━━━━━━━━━━━━━━━━━━━\u001b[0m\u001b[37m\u001b[0m \u001b[1m0s\u001b[0m 1ms/step  \n"
          ]
        },
        {
          "data": {
            "image/png": "[encoded data removed]",
            "text/plain": [
              "<Figure size 1000x600 with 1 Axes>"
            ]
          },
          "metadata": {},
          "output_type": "display_data"
        }
      ],
      "source": [
        "pred = model.predict(test_X)\n",
        "plt.figure(figsize=(10, 6))\n",
        "plt.plot(results_df[\"Actual\"], label='Actual', color='blue')\n",
        "plt.plot(results_df[\"Predicted\"], label='Predicted', color='red')\n",
        "plt.xticks(rotation=45)\n",
        "plt.title('Actual vs Predicted Price')\n",
        "plt.xlabel('Date')\n",
        "plt.ylabel('Price')\n",
        "plt.legend()\n",
        "plt.tight_layout()\n",
        "plt.show()"
      ]
    }
  ],
  "metadata": {
    "colab": {
      "provenance": []
    },
    "kernelspec": {
      "display_name": "Python 3",
      "name": "python3"
    },
    "language_info": {
      "codemirror_mode": {
        "name": "ipython",
        "version": 3
      },
      "file_extension": ".py",
      "mimetype": "text/x-python",
      "name": "python",
      "nbconvert_exporter": "python",
      "pygments_lexer": "ipython3",
      "version": "3.12.0"
    }
  },
  "nbformat": 4,
  "nbformat_minor": 0
}
